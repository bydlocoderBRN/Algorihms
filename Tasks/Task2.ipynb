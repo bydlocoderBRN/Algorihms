{
 "cells": [
  {
   "cell_type": "markdown",
   "id": "arctic-stocks",
   "metadata": {},
   "source": [
    "### Задание №1\n",
    "Массив A состоит из целых положительных чисел длин отрезков. Составьте из трех отрезков такой треугольник, чтобы его периметр был максимально возможным. Если невозможно составить треугольник с положительной площадью функция возвращает 0."
   ]
  },
  {
   "cell_type": "code",
   "execution_count": 1,
   "id": "caring-truck",
   "metadata": {},
   "outputs": [
    {
     "name": "stdout",
     "output_type": "stream",
     "text": [
      "998 923 823 \n",
      "p = 2744\n"
     ]
    }
   ],
   "source": [
    "A = [9, 923, 998, 235, 529, 694, 698, 69, 758, 823, 30000]\n",
    "A.sort(reverse=True)\n",
    "for i in range(len(A) - 2):\n",
    "    if A[i] < A[i + 1] + A[i + 2]:\n",
    "        print(A[i], A[i + 1], A[i + 2], \"\\np =\", A[i] + A[i + 1] + A[i + 2])\n",
    "        break\n",
    "    if i == len(A) - 3:\n",
    "        print(0)"
   ]
  },
  {
   "cell_type": "markdown",
   "id": "maritime-conversation",
   "metadata": {},
   "source": [
    "### Задание №2\n",
    "Дан массив неотрицательных целых чисел nums. Расположите их в таком порядке, чтобы вместе они образовали максимально возможное число. Замечание: Результат может быть очень большим числом, поэтому представьте его как string, а не integer."
   ]
  },
  {
   "cell_type": "code",
   "execution_count": 2,
   "id": "alert-charm",
   "metadata": {},
   "outputs": [
    {
     "name": "stdout",
     "output_type": "stream",
     "text": [
      "999892382375869869694529235\n"
     ]
    }
   ],
   "source": [
    "nums = [9, 923, 998, 235, 529, 694, 698, 69, 758, 823]\n",
    "max = max(nums)\n",
    "if max == 0:\n",
    "    print(0)\n",
    "else:\n",
    "    nums.sort(reverse=True, key=lambda num: str(num) + str(num)[0] * (len(str(max)) - len(str(num))))\n",
    "    print(''.join(str(x) for x in nums))"
   ]
  },
  {
   "cell_type": "markdown",
   "id": "catholic-roots",
   "metadata": {},
   "source": [
    "### Задание №3\n",
    "Дана матрица mat размером m * n, значения целочисленные. Напишите функцию, сортирующую каждую диагональ матрицы по возрастанию и возвращающую получившуюся матрицу."
   ]
  },
  {
   "cell_type": "code",
   "execution_count": 4,
   "id": "cleared-anniversary",
   "metadata": {},
   "outputs": [
    {
     "name": "stdout",
     "output_type": "stream",
     "text": [
      "[45, 24, 90, 81, 31, 32, 69]\n",
      "[93, 43, 13, 56, 66, 91, 66]\n",
      "[65, 44, 20, 16, 63, 99, 80]\n",
      "[16, 37, 30, 88, 28, 67, 71]\n",
      "\n",
      "[45, 93, 90, 81, 56, 66, 91]\n",
      "[24, 65, 44, 37, 32, 88, 99]\n",
      "[43, 16, 31, 30, 69, 66, 80]\n",
      "[13, 20, 16, 63, 28, 67, 71]\n"
     ]
    }
   ],
   "source": [
    "import random\n",
    "\n",
    "m = 7\n",
    "n = 4\n",
    "mas = [[random.randint(10, 99) for j in range(m)] for i in range(n)]\n",
    "for i in range(n):\n",
    "    print(mas[i])\n",
    "arr = [[] for i in range(m + n - 1)]\n",
    "\n",
    "\n",
    "for i in range(n):\n",
    "    for j in range(m):\n",
    "        arr[i + j].append(mas[i][j])\n",
    "        if j == 0:\n",
    "            arr[i] = sorted(arr[i])\n",
    "        if j > 0 and i == n - 1:\n",
    "            arr[i + j] = sorted(arr[i + j])\n",
    "print()\n",
    "k = 0\n",
    "for i in range(n):\n",
    "    for j in range(m):\n",
    "        if i + j > m - 1:\n",
    "            k = i + j - m + 1\n",
    "        mas[i][j] = arr[i + j][len(arr[i + j]) - 1 - i + k]\n",
    "    k = 0\n",
    "    print(mas[i])"
   ]
  }
 ],
 "metadata": {
  "kernelspec": {
   "display_name": "Python 3 (ipykernel)",
   "language": "python",
   "name": "python3"
  },
  "language_info": {
   "codemirror_mode": {
    "name": "ipython",
    "version": 3
   },
   "file_extension": ".py",
   "mimetype": "text/x-python",
   "name": "python",
   "nbconvert_exporter": "python",
   "pygments_lexer": "ipython3",
   "version": "3.9.0"
  }
 },
 "nbformat": 4,
 "nbformat_minor": 5
}
