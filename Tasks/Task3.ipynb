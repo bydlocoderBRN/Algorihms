{
 "cells": [
  {
   "cell_type": "markdown",
   "id": "fifteen-sailing",
   "metadata": {
    "id": "fifteen-sailing"
   },
   "source": [
    "# Набор заданий №3\n",
    "\n",
    "### Задание 1\n",
    "В Тридевятом Царстве уже много лет как установилась конституционная монархия. В парламент Тридевятого царства входят 26 партий, обозначаемых строчными буквами английского алфавита от «a» до «z». Заседание парламента в соответствии с регламентом проходит по следующей схеме:\n",
    "- В начале заседания никаких законопроектов на повестке дня не стоит.\n",
    "- Любая партия (в том числе и та, которая внесла текущий законопроект) в любой момент времени может внести на обсуждение новый законопроект.\n",
    "- При вносе партией нового законопроекта обсуждение предыдущего приостанавливается и начинается обсуждение нового. После того, как парламентарии голосуют за новый законопроект, обсуждение законопроекта, прерванного им, продолжается.\n",
    "- Дискуссия по любому законопроекту обязана завершиться голосованием по этому законопроекту.\n",
    "- В конце заседания не должно остаться внесённых законопроектов, дискуссия по которым не завершена.\n",
    "\n",
    "Вам дана запись о событиях на сессии парламента. Каждое событие является либо внесением нового законопроекта, либо голосованием за какой-то законопроект, причём в обоих случаях известен номер партии, этот законопроект предложившей. События даны в том порядке, в котором они происходили. Проверьте, может ли данная запись о событиях соответствовать какому-либо заседанию, удовлетворяющему порядку проведения, описанному выше.\n",
    "#### Ввод\n",
    "Первая строка входных данных содержит одно целое число *K* – количество строк в записи сессии (1 ≤ *K* ≤ 1000). Каждая строка соответствует одному из двух событий:\n",
    "\n",
    "- Add *x* – партия x внесла на голосование законопроект.\n",
    "- Vote *x* – прошло голосование за документ, внесённый партией *x*.\n",
    "\n",
    "Здесь *x* – строчная буква английского алфавита от «a» до «z», задающая партию.\n",
    "#### Вывод\n",
    "Выведите «Yes», если существует корректный порядок проведения заседания, который мог привести к такой записи, и «No», если ни при каком корректном порядке проведения заседания данная запись появиться не могла."
   ]
  },
  {
   "cell_type": "code",
   "execution_count": 6,
   "id": "concerned-lewis",
   "metadata": {
    "colab": {
     "base_uri": "https://localhost:8080/"
    },
    "executionInfo": {
     "elapsed": 65192,
     "status": "ok",
     "timestamp": 1646146087282,
     "user": {
      "displayName": "Андрей",
      "photoUrl": "https://lh3.googleusercontent.com/a-/AOh14GjiNNDTPDOjLAZpHbDPVERmUWvCXEqfV_tiC0ngbw=s64",
      "userId": "16130280915041783203"
     },
     "user_tz": -180
    },
    "id": "concerned-lewis",
    "outputId": "1c8ddfe3-53e0-4f58-f4a6-22deac3f9c77"
   },
   "outputs": [
    {
     "name": "stdout",
     "output_type": "stream",
     "text": [
      "4\n",
      "Add x\n",
      "Add y\n",
      "Vote y\n",
      "Vote x\n",
      "YES\n"
     ]
    }
   ],
   "source": [
    "def task3_1(k: int) -> str:\n",
    "    if k % 2 == 1:\n",
    "        return \"NO\"\n",
    "    vote_stack = [] * k\n",
    "    for i in range(k):\n",
    "        vote = input()\n",
    "        action = vote.split(\" \")[1]\n",
    "        if vote[0] == 'A':\n",
    "            if len(vote_stack) == k // 2:\n",
    "                return \"NO\"\n",
    "            else:\n",
    "                vote_stack.append(action)\n",
    "        elif len(vote_stack) != 0 and vote_stack[-1] == action:\n",
    "            vote_stack.pop()\n",
    "        else:\n",
    "            return \"NO\"\n",
    "    if len(vote_stack) == 0:\n",
    "        return \"YES\"\n",
    "    else:\n",
    "        return \"NO\"\n",
    "\n",
    "\n",
    "print(task3_1(int(input())))"
   ]
  },
  {
   "cell_type": "markdown",
   "id": "controversial-location",
   "metadata": {
    "id": "controversial-location"
   },
   "source": [
    "### Задача 2. Правильный подмногоугольник\n",
    "\n",
    "Задан правильный *N*-угольник. Требуется выбрать наименьшее количество его вершин, которые также образуют правильный многоугольник.\n",
    "\n",
    "#### Входные данные\n",
    "\n",
    "Входные данные содержат одно целое число *N* (3 ≤ *N* ≤ 1012).\n",
    "\n",
    "#### Вывод\n",
    "\n",
    "Выведите одно число — наименьшее количество вершин заданного многоугольника, которые образуют правильный многоугольник."
   ]
  },
  {
   "cell_type": "code",
   "execution_count": 4,
   "id": "coated-highway",
   "metadata": {
    "colab": {
     "base_uri": "https://localhost:8080/"
    },
    "executionInfo": {
     "elapsed": 11371,
     "status": "ok",
     "timestamp": 1646978922692,
     "user": {
      "displayName": "Андрей",
      "photoUrl": "https://lh3.googleusercontent.com/a-/AOh14GjiNNDTPDOjLAZpHbDPVERmUWvCXEqfV_tiC0ngbw=s64",
      "userId": "16130280915041783203"
     },
     "user_tz": -180
    },
    "id": "coated-highway",
    "outputId": "ed7e6137-2d2c-4891-f73b-d9b2a61b0a95"
   },
   "outputs": [
    {
     "name": "stdout",
     "output_type": "stream",
     "text": [
      "22\n"
     ]
    },
    {
     "data": {
      "text/plain": [
       "11"
      ]
     },
     "execution_count": 4,
     "metadata": {},
     "output_type": "execute_result"
    }
   ],
   "source": [
    "def polygon(vertex):\n",
    "    if vertex % 3 == 0:\n",
    "        return 3\n",
    "    if vertex % 4 == 0:\n",
    "        return 4\n",
    "    for i in range(5, int(vertex**(0.5) + 1)):\n",
    "        if vertex % i == 0:\n",
    "            return i\n",
    "    if vertex % 2 == 0:\n",
    "        return int(vertex/2)\n",
    "    else: \n",
    "        return vertex\n",
    "\n",
    "\n",
    "polygon(int(input()))"
   ]
  },
  {
   "cell_type": "markdown",
   "id": "cordless-fundamentals",
   "metadata": {
    "id": "cordless-fundamentals"
   },
   "source": [
    "### Задача 3.\n",
    "\n",
    "На форуме, на котором обсуждаются задачи олимпиад по информатике, ввели следующий аналог капчи. Участнику выдаётся строка из *N* десятичных цифр (без ведущих нулей). В качестве ответа требуется ввести такое основание системы счисления *B*, что в этой системе счисления выданная запись будет соответствовать составному числу (назовем его *D*), а также число *X*, большее 1 и меньшее *D*, являющееся делителем *D*.\n",
    "\n",
    "При этом *B* и *X* не должны превосходить 10^9.\n",
    "\n",
    "По заданной строке десятичных цифр найдите любую пару чисел *B* и *X*, удовлетворяющую ограничениям, или ответьте, что решения в заданных ограничениях не существует.\n",
    "\n",
    "#### Входные данные\n",
    "\n",
    "Входные данные состоят из непустой строки длиной до 3 ⋅ 106 символов, составленной из цифр от 0 до 9 и не начинающейся с 0.\n",
    "\n",
    "#### Вывод\n",
    "\n",
    "Если решение существует, выведите два числа – основание системы счисления *B* и делитель *X*, записанные в десятичной системе счисления. Оба числа должны удовлетворять ограничениям 2 ≤ *B*, *X* ≤ 10^9. Если решения не существует, выведите –1."
   ]
  },
  {
   "cell_type": "code",
   "execution_count": null,
   "id": "jewish-rocket",
   "metadata": {
    "colab": {
     "base_uri": "https://localhost:8080/"
    },
    "executionInfo": {
     "elapsed": 6085,
     "status": "ok",
     "timestamp": 1646401590121,
     "user": {
      "displayName": "Андрей",
      "photoUrl": "https://lh3.googleusercontent.com/a-/AOh14GjiNNDTPDOjLAZpHbDPVERmUWvCXEqfV_tiC0ngbw=s64",
      "userId": "16130280915041783203"
     },
     "user_tz": -180
    },
    "id": "jewish-rocket",
    "outputId": "3d959b70-bdfe-4877-ae75-54a15f44e31e",
    "scrolled": true
   },
   "outputs": [
    {
     "name": "stdout",
     "output_type": "stream",
     "text": [
      "Введите число: 11\n",
      "3 2\n"
     ]
    }
   ],
   "source": [
    "number = int(input(\"Введите число: \"))\n",
    "if number == 1 or number == 3 or number == 5 or number == 7:\n",
    "    print(-1)\n",
    "elif number == 2 or number == 4 or number == 6 or number == 8:\n",
    "    print(10, 2)\n",
    "elif number == 9:\n",
    "    print(10, 3)\n",
    "else:\n",
    "    sum = 0\n",
    "    while number > 0:\n",
    "        digit = number % 10\n",
    "        sum = sum + digit\n",
    "        number = number // 10\n",
    "    print(sum + 1, sum)"
   ]
  }
 ],
 "metadata": {
  "colab": {
   "collapsed_sections": [],
   "name": "Task3.ipynb",
   "provenance": []
  },
  "kernelspec": {
   "display_name": "Python 3 (ipykernel)",
   "language": "python",
   "name": "python3"
  },
  "language_info": {
   "codemirror_mode": {
    "name": "ipython",
    "version": 3
   },
   "file_extension": ".py",
   "mimetype": "text/x-python",
   "name": "python",
   "nbconvert_exporter": "python",
   "pygments_lexer": "ipython3",
   "version": "3.9.0"
  }
 },
 "nbformat": 4,
 "nbformat_minor": 5
}
